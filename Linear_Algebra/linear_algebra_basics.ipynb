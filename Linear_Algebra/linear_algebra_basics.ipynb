{
 "cells": [
  {
   "cell_type": "markdown",
   "metadata": {},
   "source": [
    "# Using Python for Linear Algebra\n",
    "Goal: gain some familiarity with using python to do basic matrix operations.  \n",
    "  \n",
    "A little familiarity with Python is pretty crucial for students going into engineering and data science. This is meant to be a little introduction for students in Linear Algebra without any previous Python experience."
   ]
  },
  {
   "cell_type": "markdown",
   "metadata": {},
   "source": [
    "First off, we import the package we'll need to manipulate matrices. Python is a general purpose coding language, so most specific uses require a library or two. Luckily there are a huge number of libraries to do almost anything. Numpy is a massive library with tools to manipulate large matricies and lists of data. We'll give it the nickname np as we import it so we can type a bit less."
   ]
  },
  {
   "cell_type": "code",
   "execution_count": 2,
   "metadata": {},
   "outputs": [],
   "source": [
    "import numpy as np"
   ]
  },
  {
   "cell_type": "markdown",
   "metadata": {},
   "source": [
    "We'll also define a function that makes our matricies print out a bit better, don't worry about how this works. It's just for formatting."
   ]
  },
  {
   "cell_type": "code",
   "execution_count": 23,
   "metadata": {},
   "outputs": [],
   "source": [
    "def pretty(self):\n",
    "    pretty_version = \"\"\n",
    "    # add all but last rows to return string with newlines\n",
    "    for row in self[:-1]:\n",
    "        pretty_version += f\"{str(row)}\\n\"\n",
    "    # last one doesn't get a new line\n",
    "    pretty_version += str(self[-1])\n",
    "    return pretty_version"
   ]
  },
  {
   "cell_type": "markdown",
   "metadata": {},
   "source": [
    "## Define a Matrix\n",
    "In this section we'll focus on making things. First, we'll make a matrix A."
   ]
  },
  {
   "cell_type": "code",
   "execution_count": 24,
   "metadata": {},
   "outputs": [
    {
     "name": "stdout",
     "output_type": "stream",
     "text": [
      "[0 0 0]\n",
      "[1 0 0]\n",
      "[1 1 0]\n",
      "[1 1 1]\n"
     ]
    }
   ],
   "source": [
    "A = np.array([\n",
    "    [0,0,0],\n",
    "    [1,0,0],\n",
    "    [1,1,0],\n",
    "    [1,1,1]\n",
    "    ])\n",
    "\n",
    "print(pretty(A))"
   ]
  },
  {
   "cell_type": "markdown",
   "metadata": {},
   "source": [
    "We can find out about the size of a matrix, by using the shape function. (A.shape would also work.)"
   ]
  },
  {
   "cell_type": "code",
   "execution_count": 15,
   "metadata": {},
   "outputs": [
    {
     "data": {
      "text/plain": [
       "(4, 3)"
      ]
     },
     "execution_count": 15,
     "metadata": {},
     "output_type": "execute_result"
    }
   ],
   "source": [
    "np.shape(A)"
   ]
  },
  {
   "cell_type": "markdown",
   "metadata": {},
   "source": [
    "Now we'll make a vector called X. Remember, a vector is just an n x 1 matrix."
   ]
  },
  {
   "cell_type": "code",
   "execution_count": 16,
   "metadata": {},
   "outputs": [
    {
     "name": "stdout",
     "output_type": "stream",
     "text": [
      "[1]\n",
      "[3]\n"
     ]
    }
   ],
   "source": [
    "X = np.array([\n",
    "    [1],\n",
    "    [3]\n",
    "    ])\n",
    "\n",
    "print(pretty(X))"
   ]
  },
  {
   "cell_type": "markdown",
   "metadata": {},
   "source": [
    "This makes another matrix called B and another one called C"
   ]
  },
  {
   "cell_type": "code",
   "execution_count": 30,
   "metadata": {},
   "outputs": [
    {
     "name": "stdout",
     "output_type": "stream",
     "text": [
      "B = \n",
      "[ -4 -10]\n",
      "[3 7]\n",
      "C = \n",
      "[1 2]\n",
      "[3 4]\n"
     ]
    }
   ],
   "source": [
    "B = np.array([\n",
    "    [-4,-10],\n",
    "    [3,7]\n",
    "    ])\n",
    "\n",
    "C = np.array([\n",
    "    [1,2],\n",
    "    [3,4]\n",
    "    ])\n",
    "\n",
    "print(f'B = \\n{pretty(B)}')\n",
    "print(f'C = \\n{pretty(C)}')"
   ]
  },
  {
   "cell_type": "markdown",
   "metadata": {},
   "source": [
    "## Operations"
   ]
  },
  {
   "cell_type": "markdown",
   "metadata": {},
   "source": [
    "To multiply by a scalar,"
   ]
  },
  {
   "cell_type": "code",
   "execution_count": 27,
   "metadata": {},
   "outputs": [
    {
     "name": "stdout",
     "output_type": "stream",
     "text": [
      "2*A = \n",
      "[0 0 0]\n",
      "[2 0 0]\n",
      "[2 2 0]\n",
      "[2 2 2]\n"
     ]
    }
   ],
   "source": [
    "print(f'2*A = \\n{pretty(2*A)}')"
   ]
  },
  {
   "cell_type": "markdown",
   "metadata": {},
   "source": [
    "To add,"
   ]
  },
  {
   "cell_type": "code",
   "execution_count": 32,
   "metadata": {},
   "outputs": [
    {
     "name": "stdout",
     "output_type": "stream",
     "text": [
      "B+C is\n",
      " [-3 -8]\n",
      "[ 6 11]\n"
     ]
    }
   ],
   "source": [
    "print(f\"B+C is\\n {pretty(B+C)}\")"
   ]
  },
  {
   "cell_type": "markdown",
   "metadata": {},
   "source": [
    "To multiply,"
   ]
  },
  {
   "cell_type": "code",
   "execution_count": 34,
   "metadata": {},
   "outputs": [
    {
     "name": "stdout",
     "output_type": "stream",
     "text": [
      "[-34 -48]\n",
      "[24 34]\n"
     ]
    }
   ],
   "source": [
    "D = np.dot(B,C)\n",
    "print(pretty(D))"
   ]
  },
  {
   "cell_type": "markdown",
   "metadata": {},
   "source": [
    "Be careful, B*B works, but isn't the usual matrix multiplication, it's a thing called the Hadamard product. (https://en.wikipedia.org/wiki/Hadamard_product_(matrices))"
   ]
  },
  {
   "cell_type": "markdown",
   "metadata": {},
   "source": [
    "To calculate the determinant,"
   ]
  },
  {
   "cell_type": "code",
   "execution_count": 37,
   "metadata": {},
   "outputs": [
    {
     "name": "stdout",
     "output_type": "stream",
     "text": [
      "2.0\n"
     ]
    }
   ],
   "source": [
    "print(np.linalg.det(B))"
   ]
  },
  {
   "cell_type": "markdown",
   "metadata": {},
   "source": [
    "To calculate an inverse matrix"
   ]
  },
  {
   "cell_type": "code",
   "execution_count": 39,
   "metadata": {},
   "outputs": [
    {
     "name": "stdout",
     "output_type": "stream",
     "text": [
      "B inverse is \n",
      "[3.5 5. ]\n",
      "[-1.5 -2. ]\n"
     ]
    }
   ],
   "source": [
    "print(f'B inverse is \\n{pretty(np.linalg.inv(B))}')"
   ]
  },
  {
   "cell_type": "markdown",
   "metadata": {},
   "source": [
    "To transpose"
   ]
  },
  {
   "cell_type": "code",
   "execution_count": 40,
   "metadata": {},
   "outputs": [
    {
     "name": "stdout",
     "output_type": "stream",
     "text": [
      "A transpose is:\n",
      "[0 1 1 1]\n",
      "[0 0 1 1]\n",
      "[0 0 0 1]\n"
     ]
    }
   ],
   "source": [
    "print(f\"A transpose is:\\n{pretty(np.transpose(A))}\")"
   ]
  },
  {
   "cell_type": "markdown",
   "metadata": {},
   "source": [
    "To calculate a power, you can't use the usual power operator from python, because it'll do the Hadamard product again."
   ]
  },
  {
   "cell_type": "code",
   "execution_count": 42,
   "metadata": {},
   "outputs": [
    {
     "name": "stdout",
     "output_type": "stream",
     "text": [
      "B^2 = \n",
      " [[-14 -30]\n",
      " [  9  19]]\n",
      "B^3 = \n",
      " [[-34 -70]\n",
      " [ 21  43]]\n"
     ]
    }
   ],
   "source": [
    "print(f\"B^2 = \\n {np.dot(B,B)}\")\n",
    "print(f\"B^3 = \\n {np.dot(B, np.dot(B,B))}\")"
   ]
  },
  {
   "cell_type": "markdown",
   "metadata": {},
   "source": [
    "## Eigenpairs"
   ]
  },
  {
   "cell_type": "code",
   "execution_count": 22,
   "metadata": {},
   "outputs": [
    {
     "name": "stdout",
     "output_type": "stream",
     "text": [
      "(0.9999999999999964, [-0.89442719  0.85749293])\n",
      "(2.0000000000000036, [ 0.4472136  -0.51449576])\n"
     ]
    }
   ],
   "source": [
    "eigenvalues = np.linalg.eig(B)[0]\n",
    "eigenvectors = np.linalg.eig(B)[1]\n",
    "\n",
    "for i in range(len(eigenvalues)):\n",
    "    print(f'({eigenvalues[i]}, {eigenvectors[i]})')"
   ]
  }
 ],
 "metadata": {
  "kernelspec": {
   "display_name": "Python 3",
   "language": "python",
   "name": "python3"
  },
  "language_info": {
   "codemirror_mode": {
    "name": "ipython",
    "version": 3
   },
   "file_extension": ".py",
   "mimetype": "text/x-python",
   "name": "python",
   "nbconvert_exporter": "python",
   "pygments_lexer": "ipython3",
   "version": "3.12.6"
  }
 },
 "nbformat": 4,
 "nbformat_minor": 2
}
