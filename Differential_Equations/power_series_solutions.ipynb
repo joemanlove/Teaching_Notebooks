{
 "cells": [
  {
   "cell_type": "markdown",
   "metadata": {},
   "source": [
    "# Power Series Tools for Differential Equations\n",
    "\n",
    "In DEs we sometimes find ourselves with an intractable differential equation. In this case we often turn to computer algebra systems to solve. These systems shouldn't be a mystery, but they're often treated as a black box. This notebook will show you the inside of that black box. There's a fair bit of code here, some of it written inefficiently because we're trying to illustrate how a computer algebra system works, not write an excellent one ourselves.  "
   ]
  },
  {
   "cell_type": "markdown",
   "metadata": {},
   "source": [
    "First, we'll a define a couple utility functions to make our lives easier and our formatting a bit cleaner."
   ]
  },
  {
   "cell_type": "code",
   "execution_count": 254,
   "metadata": {},
   "outputs": [],
   "source": [
    "import numpy as np\n",
    "\n",
    "def format_float(num: float) -> float:\n",
    "    '''Keeps floats from using scientific notation and removes trailing 0s'''\n",
    "    return np.format_float_positional(num, trim='-')\n",
    "\n",
    "def pad_coefficients(coefficients: list, length: int) -> list:\n",
    "    '''Pads a coefficient list out to a set length by appending zeros.'''\n",
    "    while len(coefficients) <= length:\n",
    "        coefficients.append(0)\n",
    "    return coefficients"
   ]
  },
  {
   "cell_type": "markdown",
   "metadata": {},
   "source": [
    "Now, we'll need to consider the humble polynomial. A polynomial like $q_1(x) = 2 + 0x + x^2$ will be our starting point. Notice we've written the polynomial backwards from the usual, this is because we'll be moving on to powerseries in a moment and power series are written starting with the constant term. The next big block of code defines the idea of a Polynomial for us in Python. It also tells Python how to add, subtract and multiply polynomials."
   ]
  },
  {
   "cell_type": "code",
   "execution_count": 255,
   "metadata": {},
   "outputs": [],
   "source": [
    "class Polynomial():\n",
    "    def __init__(self, coefficients):\n",
    "        '''Generates a polynomial from a list of coefficients.'''\n",
    "        # set degree\n",
    "        last_nonzero_index = 0\n",
    "        for i, coef in enumerate(coefficients):\n",
    "            if coef != 0:\n",
    "                last_nonzero_index = i\n",
    "        self.degree = last_nonzero_index\n",
    "\n",
    "        # set coefficients\n",
    "        self.coefficients = coefficients\n",
    "        \n",
    "\n",
    "    def evalutate_at(self, x: float) -> float:\n",
    "        '''Evaluates a polynomial at a value.'''\n",
    "        return sum([coef*x**i for i, coef in enumerate(self.coefficients)])\n",
    "    \n",
    "    def __repr__(self):\n",
    "        '''String representation of a polynomial.'''\n",
    "        string = ' + '.join([f\"{format_float(coef)}x^{i}\" for i, coef in enumerate(self.coefficients)])\n",
    "        return string\n",
    "\n",
    "    def _repr_latex_(self):\n",
    "        '''Latex representation of a polynomial. Automatically called by Jupyter.'''\n",
    "        def format(i, coef):\n",
    "            '''Format coefficients and indices as monomials'''\n",
    "            # format_float is to stop scientific notation for aesthetics\n",
    "            # constant terms shouldn't have xs\n",
    "            if i == 0:\n",
    "                return f'{format_float(coef)}'\n",
    "            # the linear term shouldn't have a power\n",
    "            elif i == 1:\n",
    "                return f\"{format_float(coef)}x\"\n",
    "            # the rest should be coef*x^i\n",
    "            else:\n",
    "                # all the brackets are for latex formatting, the inner pair are for the f string and the doubles come through as a single\n",
    "                return f\"{format_float(coef)}x^{{{i}}}\"\n",
    "        string = ' + '.join([format(i, coef) for i, coef in enumerate(self.coefficients)])\n",
    "        return f'$${string}$$'\n",
    "    \n",
    "    def __add__(self, other):\n",
    "        '''Add two Polynomials'''\n",
    "        # find the degree of the result\n",
    "        result_degree = max(self.degree, other.degree)\n",
    "\n",
    "        # pad out both lists of coeficients with 0 to reach the degree of the result\n",
    "        self_coefficients = pad_coefficients(self.coefficients, result_degree)\n",
    "        other_coefficients = pad_coefficients(other.coefficients, result_degree)\n",
    "\n",
    "        # combine like terms and return a Polynomial with those coefficients\n",
    "        added_coefficients = [coef + other_coefficients[i] for i, coef in enumerate(self_coefficients)]\n",
    "        return Polynomial(added_coefficients)\n",
    "    \n",
    "    def __sub__(self, other):\n",
    "        '''Subtract two Polynomials'''\n",
    "        # scale the coefficients by -1 and add\n",
    "        other_coefficients = [-1*coef for coef in other.coefficients]\n",
    "        return self + Polynomial(other_coefficients)\n",
    "    \n",
    "    def __mul__(self, other):\n",
    "        '''Multiply two Polynomials'''\n",
    "        # initially start with the zero polynomial\n",
    "        result = Polynomial([0])\n",
    "\n",
    "        # For each term in the Polynomial, mulitply it by the second Poly. Add them all and return it.\n",
    "        for k, self_coef in enumerate(self.coefficients):\n",
    "            # multiply by x^k (just shift coefficients)\n",
    "            mult_by_x_k = [0 for _ in range(k)] + other.coefficients\n",
    "\n",
    "            # multiply the result by the coefficient from the first polynomial\n",
    "            mult_by_coef = [self_coef*value for value in mult_by_x_k]\n",
    "\n",
    "            # turn the result into a polynomial and add it to the results so far\n",
    "            this_row = Polynomial(mult_by_coef)\n",
    "            result += this_row\n",
    "        return result\n",
    "        \n",
    "        \n"
   ]
  },
  {
   "cell_type": "markdown",
   "metadata": {},
   "source": [
    "Here are some polynomials as examples. p1 is $1 + 7x^2 + 9x^3$, which will appear as $1 + 0x + 7x^2 + 9x^3$ and p2 is $2 + x$. We compute the product and sum in the next couple of cells for illustration."
   ]
  },
  {
   "cell_type": "code",
   "execution_count": 256,
   "metadata": {},
   "outputs": [
    {
     "name": "stdout",
     "output_type": "stream",
     "text": [
      "2\n"
     ]
    },
    {
     "data": {
      "text/latex": [
       "$$3 + 1x + 7x^{2} + 9x^{3}$$"
      ],
      "text/plain": [
       "3x^0 + 1x^1 + 7x^2 + 9x^3"
      ]
     },
     "execution_count": 256,
     "metadata": {},
     "output_type": "execute_result"
    }
   ],
   "source": [
    "p1 = Polynomial([1, 0, 7, 9])\n",
    "p2 = Polynomial([2, 1])\n",
    "\n",
    "test_sum = p1+p2\n",
    "test_sum"
   ]
  },
  {
   "cell_type": "code",
   "execution_count": 257,
   "metadata": {},
   "outputs": [
    {
     "data": {
      "text/latex": [
       "$$2 + 1x + 14x^{2} + 25x^{3} + 9x^{4}$$"
      ],
      "text/plain": [
       "2x^0 + 1x^1 + 14x^2 + 25x^3 + 9x^4"
      ]
     },
     "execution_count": 257,
     "metadata": {},
     "output_type": "execute_result"
    }
   ],
   "source": [
    "test_product = p1*p2\n",
    "test_product"
   ]
  },
  {
   "cell_type": "markdown",
   "metadata": {},
   "source": [
    "Remember power series from Calc 1? Here we'll be making use of the MacLaurin Series (a Taylor Series centered at 0). Here are a couple formulas you may recognize.\n",
    "\n",
    "$$e^x = \\frac{x^n}{n!}$$  \n",
    "$$\\cos(x) = \\frac{(-1)^nx^{2n}}{(2n)!}$$  \n",
    "$$\\sin(x) = \\frac{(-1)^nx^{2n+1}}{(2n+1)!}$$"
   ]
  },
  {
   "cell_type": "markdown",
   "metadata": {},
   "source": [
    "Factorials are really common in power series, so we'll need a helper function so Python can calculate factorials."
   ]
  },
  {
   "cell_type": "code",
   "execution_count": 258,
   "metadata": {},
   "outputs": [],
   "source": [
    "def factorial(n):\n",
    "    if not isinstance(n, int) or n < 0:\n",
    "        raise TypeError(\"Factorials are only defined for positive integers\")\n",
    "\n",
    "    if n == 0:\n",
    "        return 1\n",
    "    else:\n",
    "        return n*factorial(n-1)"
   ]
  },
  {
   "cell_type": "markdown",
   "metadata": {},
   "source": [
    "Now we'll tell Python how a Power Series Approximation works. Basically we'll be treating it as a big polynomial. By default here we'll be limiting ourselves to a degree 10 approximation. Feel free to change that, but be aware that Python can only handle so much without some more serious code work than we've done here. "
   ]
  },
  {
   "cell_type": "code",
   "execution_count": 259,
   "metadata": {},
   "outputs": [],
   "source": [
    "class Power_Series_Approximation(Polynomial):\n",
    "    def __init__(self, formula, degree=10):\n",
    "        # set the formula for for the power series expansion\n",
    "        self.formula = formula\n",
    "        \n",
    "        # set the degree\n",
    "        self.degree = degree\n",
    "\n",
    "        # set coefficients using the formula\n",
    "        self.coefficients = []\n",
    "        for i in range(self.degree):\n",
    "            self.coefficients.append(self.formula(i))\n",
    "        \n",
    "\n",
    "    \n"
   ]
  },
  {
   "cell_type": "markdown",
   "metadata": {},
   "source": [
    "Here we've converted the Power Series for $e^x$ and $\\cos(x)$ into formulas for making Power Series Approximation objects."
   ]
  },
  {
   "cell_type": "code",
   "execution_count": 260,
   "metadata": {},
   "outputs": [],
   "source": [
    "def e_series_formula(n):\n",
    "    return 1/factorial(n)\n",
    "\n",
    "def cosine_series_formula(n):\n",
    "    coef = 0\n",
    "    if n % 2 == 0:\n",
    "        sign = (-1)**(n-1)/2\n",
    "        coef = sign/factorial(n)\n",
    "    return coef"
   ]
  },
  {
   "cell_type": "markdown",
   "metadata": {},
   "source": [
    "Here we've made a series approximation for $e^x$."
   ]
  },
  {
   "cell_type": "code",
   "execution_count": 265,
   "metadata": {},
   "outputs": [
    {
     "name": "stdout",
     "output_type": "stream",
     "text": [
      "1x^0 + 1x^1 + 0.5x^2 + 0.16666666666666666x^3 + 0.041666666666666664x^4 + 0.008333333333333333x^5 + 0.001388888888888889x^6 + 0.0001984126984126984x^7 + 0.0000248015873015873x^8 + 0.0000027557319223985893x^9\n"
     ]
    }
   ],
   "source": [
    "\n",
    "e_series = Power_Series_Approximation(e_series_formula)\n",
    "e_series\n",
    "    "
   ]
  },
  {
   "cell_type": "markdown",
   "metadata": {},
   "source": [
    "This should give you a starting point on a calculator for solving differential equations using power series approximations. A pro tip here, the following cell output isn't easy to copy paste into desmos, but the one after it is."
   ]
  },
  {
   "cell_type": "code",
   "execution_count": 266,
   "metadata": {},
   "outputs": [
    {
     "data": {
      "text/latex": [
       "$$1 + 1x + 0.5x^{2} + 0.16666666666666666x^{3} + 0.041666666666666664x^{4} + 0.008333333333333333x^{5} + 0.001388888888888889x^{6} + 0.0001984126984126984x^{7} + 0.0000248015873015873x^{8} + 0.0000027557319223985893x^{9}$$"
      ],
      "text/plain": [
       "1x^0 + 1x^1 + 0.5x^2 + 0.16666666666666666x^3 + 0.041666666666666664x^4 + 0.008333333333333333x^5 + 0.001388888888888889x^6 + 0.0001984126984126984x^7 + 0.0000248015873015873x^8 + 0.0000027557319223985893x^9"
      ]
     },
     "execution_count": 266,
     "metadata": {},
     "output_type": "execute_result"
    }
   ],
   "source": [
    "# not very copy-pastable, but pretty\n",
    "e_series"
   ]
  },
  {
   "cell_type": "code",
   "execution_count": 267,
   "metadata": {},
   "outputs": [
    {
     "name": "stdout",
     "output_type": "stream",
     "text": [
      "1x^0 + 1x^1 + 0.5x^2 + 0.16666666666666666x^3 + 0.041666666666666664x^4 + 0.008333333333333333x^5 + 0.001388888888888889x^6 + 0.0001984126984126984x^7 + 0.0000248015873015873x^8 + 0.0000027557319223985893x^9\n"
     ]
    }
   ],
   "source": [
    "# ugly, but copy-pastable\n",
    "print(e_series)"
   ]
  }
 ],
 "metadata": {
  "kernelspec": {
   "display_name": "Python 3",
   "language": "python",
   "name": "python3"
  },
  "language_info": {
   "codemirror_mode": {
    "name": "ipython",
    "version": 3
   },
   "file_extension": ".py",
   "mimetype": "text/x-python",
   "name": "python",
   "nbconvert_exporter": "python",
   "pygments_lexer": "ipython3",
   "version": "3.12.6"
  }
 },
 "nbformat": 4,
 "nbformat_minor": 2
}
